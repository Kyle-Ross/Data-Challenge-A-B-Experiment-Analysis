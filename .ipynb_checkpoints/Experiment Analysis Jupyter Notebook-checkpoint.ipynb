{
 "cells": [
  {
   "cell_type": "markdown",
   "id": "c7f003de",
   "metadata": {},
   "source": [
    "## **Data Analyst Challenge**\n",
    "\n",
    "**Submitted by Kyle Ross - 13/01/2022**\n",
    "\n",
    "--------------------------------------------------\n",
    "\n",
    "## **Experiment Analysis**\n",
    "\n",
    "Several functions have been written to easily run A/B Tests across segments of the data. The analysis itself can be found after the function definitions."
   ]
  },
  {
   "cell_type": "markdown",
   "id": "39787aa9",
   "metadata": {},
   "source": [
    "--------------------------------------------------\n",
    "\n",
    "**Importing packages**:"
   ]
  },
  {
   "cell_type": "code",
   "execution_count": 1,
   "id": "f3e9c997",
   "metadata": {},
   "outputs": [],
   "source": [
    "import pandas as pd\n",
    "import numpy as np\n",
    "import math\n",
    "import warnings\n",
    "from scipy.stats import norm\n",
    "from IPython.display import display, HTML"
   ]
  },
  {
   "cell_type": "markdown",
   "id": "b2f0571c",
   "metadata": {},
   "source": [
    "--------------------------------------------------\n",
    "\n",
    "**Preparation**:"
   ]
  },
  {
   "cell_type": "code",
   "execution_count": 2,
   "id": "fbc5f391",
   "metadata": {},
   "outputs": [],
   "source": [
    "#Location of csv file\n",
    "csv_target = r\"manual_elevations_experiment_data.csv\"\n",
    "\n",
    "#Importing the csv as a DataFrame\n",
    "df_elevations = pd.read_csv(csv_target)\n",
    "\n",
    "#Renaming the experiment groups as 'A - Auto and Manual' and 'B - Auto Only'\n",
    "df_elevations['experiment_group'] = df_elevations['experiment_group'].apply(lambda x: 'A - Auto and Manual' if (x == 'A') else 'B - Auto Only')\n",
    "\n",
    "#Setting a variable for the A/B grouping column\n",
    "group_dimensions = r'experiment_group'"
   ]
  },
  {
   "cell_type": "markdown",
   "id": "be1af21a",
   "metadata": {},
   "source": [
    "--------------------------------------------------\n",
    "\n",
    "**subset_build Function to subset the dataframe by a specific column**:\n",
    "\n",
    "\n",
    "experiment_group 'S' is excluded in all subsets as this is not used for A/B testing. This function is used to pass segmented subsets to other functions.\n",
    "\n",
    "Takes two arguments:\n",
    " - **col_name** - the name of the column to be the basis of the subset\n",
    " - **filter_val** - the value in that column to filter the dataframe"
   ]
  },
  {
   "cell_type": "code",
   "execution_count": 3,
   "id": "da6e16a3",
   "metadata": {},
   "outputs": [],
   "source": [
    "def subset_build(col_name,filter_val):\n",
    "    cond1 = df_elevations['experiment_group'] != 'S'\n",
    "    cond2 = df_elevations[col_name] == filter_val\n",
    "    df_subset_var = df_elevations[cond1 & cond2]\n",
    "    return df_subset_var"
   ]
  },
  {
   "cell_type": "markdown",
   "id": "0a29ce6a",
   "metadata": {},
   "source": [
    "--------------------------------------------------\n",
    "\n",
    "**df_build_agg Function to build grouped dataframe by A/B Test, create aggregated fields, and generate rate metrics for use in the A/B testing function.**\n",
    "\n",
    "Takes one argument:\n",
    "\n",
    " - **df_subset** - a dataframe representing the desired subset of data"
   ]
  },
  {
   "cell_type": "code",
   "execution_count": 4,
   "id": "9ebc5fcc",
   "metadata": {},
   "outputs": [],
   "source": [
    "def df_build_agg(df_subset):\n",
    "\n",
    "    #Aggregations\n",
    "    df_grp_agg = df_subset.groupby(group_dimensions).agg(count_searches=('search_id',np.size),\n",
    "                                                         sum_elevations = ('num_elevations',np.sum), \n",
    "                                                         sum_all_clicks = ('num_clicks',np.sum),\n",
    "                                                         sum_unique_clicks = ('num_clicks',np.count_nonzero),\n",
    "                                                         sum_all_exports = ('num_exported_results',np.sum),\n",
    "                                                         sum_unique_exports = ('num_exported_results',np.count_nonzero),\n",
    "                                                         sum_all_licenses = ('num_licenses',np.sum),\n",
    "                                                         sum_unique_licenses = ('num_licenses',np.count_nonzero))\n",
    "\n",
    "    #Adding Derived Fields\n",
    "    df_grp_agg['click_rate'] = (df_grp_agg['sum_all_clicks'] / df_grp_agg['count_searches'])\n",
    "    df_grp_agg['unq_click_rate'] = (df_grp_agg['sum_unique_clicks'] / df_grp_agg['count_searches'])\n",
    "    df_grp_agg['export_rate'] = (df_grp_agg['sum_all_exports'] / df_grp_agg['count_searches'])\n",
    "    df_grp_agg['unq_export_rate'] = (df_grp_agg['sum_unique_exports'] / df_grp_agg['count_searches'])\n",
    "    df_grp_agg['license_rate'] = (df_grp_agg['sum_all_licenses'] / df_grp_agg['count_searches'])\n",
    "    df_grp_agg['unq_license_rate'] = (df_grp_agg['sum_unique_licenses'] / df_grp_agg['count_searches'])\n",
    "    \n",
    "\n",
    "    return df_grp_agg"
   ]
  },
  {
   "cell_type": "markdown",
   "id": "407a77a2",
   "metadata": {},
   "source": [
    "--------------------------------------------------\n",
    "\n",
    "**Function to run the A/B test and produce statistical metrics. Either prints results to console or returns a dictionary of results**\n",
    "\n",
    "Takes 5 arguments:\n",
    "\n",
    " - **df_input**: takes the output of the df_build_agg function\n",
    " - **conversions_col_name**: the name of the column containing the conversion metric (i.e. clicks)\n",
    " - **rate_col_name**: the name of the column containing the conversion rate (i.e. clicks per search)\n",
    " - **print_title**: optional argument specifying the title of the printout\n",
    " - **return_dict**: optional argument to specify if a dictionary is to be the output"
   ]
  },
  {
   "cell_type": "code",
   "execution_count": 5,
   "id": "393f4704",
   "metadata": {},
   "outputs": [],
   "source": [
    "def run_ab_test(df_input,conversions_col_name,rate_col_name,print_title = 'Experiment Data',return_dict = False):\n",
    "\n",
    "    warnings.filterwarnings(\"ignore\", category=RuntimeWarning) \n",
    "\n",
    "    c_index = df_input.columns.get_loc(conversions_col_name)\n",
    "    r_index = df_input.columns.get_loc(rate_col_name)\n",
    "    \n",
    "    variation = {'searches':df_input.iloc[1]['count_searches'],'conversions':df_input.iloc[1][c_index],'rate':df_input.iloc[1][r_index]}\n",
    "    control = {'searches':df_input.iloc[0]['count_searches'],'conversions':df_input.iloc[0][c_index],'rate':df_input.iloc[0][r_index]}\n",
    "    \n",
    "    variation['std_err'] = math.sqrt((variation['rate'] * (1 - variation['rate'])/variation['searches']))\n",
    "    control['std_err'] = math.sqrt((control['rate'] * (1 - control['rate'])/control['searches']))\n",
    "    \n",
    "    results = {}\n",
    "    \n",
    "    if control['rate'] < variation['rate']:\n",
    "        results['z-score'] = -( (control['rate'] - variation['rate']) / math.sqrt( (control['std_err'] ** 2) + (variation['std_err'] ** 2) ) )\n",
    "    else:\n",
    "        results['z-score'] = (control['rate'] - variation['rate']) / math.sqrt( (control['std_err'] ** 2) + (variation['std_err'] ** 2) )\n",
    "    \n",
    "    results['confidence'] = norm.cdf(results['z-score'])         \n",
    "    results['percentage_delta'] = -(control['rate'] - variation['rate'])\n",
    "    results['percentage_var'] = results['percentage_delta'] / control['rate']\n",
    "\n",
    "    #return results as a dictionary or print results in console\n",
    "    if return_dict == False:\n",
    "        print(print_title)\n",
    "        print('         ')\n",
    "        print(display(df_input.iloc[:,[0,c_index,r_index]]))\n",
    "        print('         ')\n",
    "        print('Standard Error - Control - A: ' + str(\"{:.2}\".format(control['std_err'])))\n",
    "        print('Standard Error - Variation - B: ' + str(\"{:.2}\".format(variation['std_err'])))\n",
    "        print('         ')\n",
    "        print('Rate Delta: ' + str(\"{:.2}\".format(results['percentage_delta'])))\n",
    "        print('Percentage Var: ' + str(\"{:.2%}\".format(results['percentage_var'])))\n",
    "        print('Confidence Level: ' + str(\"{:.2%}\".format(results['confidence'])))\n",
    "    else:\n",
    "        results_dict = results\n",
    "        results_dict['a_am_searches'] = control['searches']\n",
    "        results_dict['a_am_conv'] = control['conversions']\n",
    "        results_dict['a_am_rate'] = control['rate']\n",
    "        results_dict['a_am_stderr'] = control['std_err']\n",
    "        results_dict['b_ao_searches'] = variation['searches']\n",
    "        results_dict['b_ao_conv'] = variation['conversions']\n",
    "        results_dict['b_ao_rate'] = variation['rate']\n",
    "        results_dict['b_ao_stderr'] = variation['std_err']\n",
    "        return results_dict\n",
    "\n",
    "    warnings.resetwarnings()"
   ]
  },
  {
   "cell_type": "markdown",
   "id": "9b703c21",
   "metadata": {},
   "source": [
    "--------------------------------------------------\n",
    "\n",
    "## 1. Analysis of the overall impact of manual elevations\n",
    "\n",
    "Using the functions created above, we can easily analyse the impact of manual elevations. \n",
    "\n",
    "We will review 3 key metrics:\n",
    "\n",
    " - **Unique Click Through Rate** = ( Unique Clicks per search / count of searches)\n",
    " - **Unique Export Rate** = ( Unique Exports per search / count of searches)\n",
    " - **License Rate** = (Licenses / count of searches)\n",
    "\n",
    "Unique values were used for clicks and exports as worse search elevation results may actually increase the per search clicks. By making this value unique, the analysis looks at impact in terms of whether they did or didn't click/export/licence at least once per session.\n",
    "\n",
    "Licensing was left as count all, as this is a positive occurrence regardless.\n",
    "\n",
    "--------------------------------------------------"
   ]
  },
  {
   "cell_type": "code",
   "execution_count": 6,
   "id": "5258ceed",
   "metadata": {},
   "outputs": [
    {
     "name": "stdout",
     "output_type": "stream",
     "text": [
      "All data - Unique Click Rate\n",
      "         \n"
     ]
    },
    {
     "data": {
      "text/html": [
       "<div>\n",
       "<style scoped>\n",
       "    .dataframe tbody tr th:only-of-type {\n",
       "        vertical-align: middle;\n",
       "    }\n",
       "\n",
       "    .dataframe tbody tr th {\n",
       "        vertical-align: top;\n",
       "    }\n",
       "\n",
       "    .dataframe thead th {\n",
       "        text-align: right;\n",
       "    }\n",
       "</style>\n",
       "<table border=\"1\" class=\"dataframe\">\n",
       "  <thead>\n",
       "    <tr style=\"text-align: right;\">\n",
       "      <th></th>\n",
       "      <th>count_searches</th>\n",
       "      <th>sum_unique_clicks</th>\n",
       "      <th>unq_click_rate</th>\n",
       "    </tr>\n",
       "    <tr>\n",
       "      <th>experiment_group</th>\n",
       "      <th></th>\n",
       "      <th></th>\n",
       "      <th></th>\n",
       "    </tr>\n",
       "  </thead>\n",
       "  <tbody>\n",
       "    <tr>\n",
       "      <th>A - Auto and Manual</th>\n",
       "      <td>840702</td>\n",
       "      <td>453325</td>\n",
       "      <td>0.539222</td>\n",
       "    </tr>\n",
       "    <tr>\n",
       "      <th>B - Auto Only</th>\n",
       "      <td>847675</td>\n",
       "      <td>481952</td>\n",
       "      <td>0.568558</td>\n",
       "    </tr>\n",
       "  </tbody>\n",
       "</table>\n",
       "</div>"
      ],
      "text/plain": [
       "                     count_searches  sum_unique_clicks  unq_click_rate\n",
       "experiment_group                                                      \n",
       "A - Auto and Manual          840702             453325        0.539222\n",
       "B - Auto Only                847675             481952        0.568558"
      ]
     },
     "metadata": {},
     "output_type": "display_data"
    },
    {
     "name": "stdout",
     "output_type": "stream",
     "text": [
      "None\n",
      "         \n",
      "Standard Error - Control - A: 0.00054\n",
      "Standard Error - Variation - B: 0.00054\n",
      "         \n",
      "Rate Delta: 0.029\n",
      "Percentage Var: 5.44%\n",
      "Confidence Level: 100.00%\n"
     ]
    }
   ],
   "source": [
    "run_ab_test(df_build_agg(df_elevations[df_elevations['experiment_group'] != 'S'])\n",
    "                         ,'sum_unique_clicks',\n",
    "                         'unq_click_rate',\n",
    "                         print_title = 'All data - Unique Click Rate')"
   ]
  },
  {
   "cell_type": "markdown",
   "id": "33afb20e",
   "metadata": {},
   "source": [
    "**Unique Click Rate**: The fully automated manual elevations used in experiment group B improved the unique click rate by +5.44%. In other words, +5.44% more users clicked at least once in group B. This result is statistically significant.\n",
    "\n",
    "--------------------------------------------------"
   ]
  },
  {
   "cell_type": "code",
   "execution_count": 7,
   "id": "7a62dbb6",
   "metadata": {},
   "outputs": [
    {
     "name": "stdout",
     "output_type": "stream",
     "text": [
      "All data - Unique Export Rate\n",
      "         \n"
     ]
    },
    {
     "data": {
      "text/html": [
       "<div>\n",
       "<style scoped>\n",
       "    .dataframe tbody tr th:only-of-type {\n",
       "        vertical-align: middle;\n",
       "    }\n",
       "\n",
       "    .dataframe tbody tr th {\n",
       "        vertical-align: top;\n",
       "    }\n",
       "\n",
       "    .dataframe thead th {\n",
       "        text-align: right;\n",
       "    }\n",
       "</style>\n",
       "<table border=\"1\" class=\"dataframe\">\n",
       "  <thead>\n",
       "    <tr style=\"text-align: right;\">\n",
       "      <th></th>\n",
       "      <th>count_searches</th>\n",
       "      <th>sum_unique_exports</th>\n",
       "      <th>unq_export_rate</th>\n",
       "    </tr>\n",
       "    <tr>\n",
       "      <th>experiment_group</th>\n",
       "      <th></th>\n",
       "      <th></th>\n",
       "      <th></th>\n",
       "    </tr>\n",
       "  </thead>\n",
       "  <tbody>\n",
       "    <tr>\n",
       "      <th>A - Auto and Manual</th>\n",
       "      <td>840702</td>\n",
       "      <td>233902</td>\n",
       "      <td>0.278222</td>\n",
       "    </tr>\n",
       "    <tr>\n",
       "      <th>B - Auto Only</th>\n",
       "      <td>847675</td>\n",
       "      <td>235097</td>\n",
       "      <td>0.277343</td>\n",
       "    </tr>\n",
       "  </tbody>\n",
       "</table>\n",
       "</div>"
      ],
      "text/plain": [
       "                     count_searches  sum_unique_exports  unq_export_rate\n",
       "experiment_group                                                        \n",
       "A - Auto and Manual          840702              233902         0.278222\n",
       "B - Auto Only                847675              235097         0.277343"
      ]
     },
     "metadata": {},
     "output_type": "display_data"
    },
    {
     "name": "stdout",
     "output_type": "stream",
     "text": [
      "None\n",
      "         \n",
      "Standard Error - Control - A: 0.00049\n",
      "Standard Error - Variation - B: 0.00049\n",
      "         \n",
      "Rate Delta: -0.00088\n",
      "Percentage Var: -0.32%\n",
      "Confidence Level: 89.88%\n"
     ]
    }
   ],
   "source": [
    "run_ab_test(df_build_agg(df_elevations[df_elevations['experiment_group'] != 'S'])\n",
    "                         ,'sum_unique_exports',\n",
    "                         'unq_export_rate',\n",
    "                         print_title = 'All data - Unique Export Rate')"
   ]
  },
  {
   "cell_type": "markdown",
   "id": "6e848eb9",
   "metadata": {},
   "source": [
    "**Unique Export Rate**: The fully automated manual elevations used in experiment group B had very little effect on the unique export rate. \n",
    "\n",
    "*Note: Looking separately at the non-unique export rate there was a statistically significant -2.48% decrease.*\n",
    "\n",
    "--------------------------------------------------"
   ]
  },
  {
   "cell_type": "code",
   "execution_count": 8,
   "id": "25f32bbc",
   "metadata": {},
   "outputs": [
    {
     "name": "stdout",
     "output_type": "stream",
     "text": [
      "All data - Licence Rate\n",
      "         \n"
     ]
    },
    {
     "data": {
      "text/html": [
       "<div>\n",
       "<style scoped>\n",
       "    .dataframe tbody tr th:only-of-type {\n",
       "        vertical-align: middle;\n",
       "    }\n",
       "\n",
       "    .dataframe tbody tr th {\n",
       "        vertical-align: top;\n",
       "    }\n",
       "\n",
       "    .dataframe thead th {\n",
       "        text-align: right;\n",
       "    }\n",
       "</style>\n",
       "<table border=\"1\" class=\"dataframe\">\n",
       "  <thead>\n",
       "    <tr style=\"text-align: right;\">\n",
       "      <th></th>\n",
       "      <th>count_searches</th>\n",
       "      <th>sum_all_licenses</th>\n",
       "      <th>license_rate</th>\n",
       "    </tr>\n",
       "    <tr>\n",
       "      <th>experiment_group</th>\n",
       "      <th></th>\n",
       "      <th></th>\n",
       "      <th></th>\n",
       "    </tr>\n",
       "  </thead>\n",
       "  <tbody>\n",
       "    <tr>\n",
       "      <th>A - Auto and Manual</th>\n",
       "      <td>840702</td>\n",
       "      <td>24687</td>\n",
       "      <td>0.029365</td>\n",
       "    </tr>\n",
       "    <tr>\n",
       "      <th>B - Auto Only</th>\n",
       "      <td>847675</td>\n",
       "      <td>28783</td>\n",
       "      <td>0.033955</td>\n",
       "    </tr>\n",
       "  </tbody>\n",
       "</table>\n",
       "</div>"
      ],
      "text/plain": [
       "                     count_searches  sum_all_licenses  license_rate\n",
       "experiment_group                                                   \n",
       "A - Auto and Manual          840702             24687      0.029365\n",
       "B - Auto Only                847675             28783      0.033955"
      ]
     },
     "metadata": {},
     "output_type": "display_data"
    },
    {
     "name": "stdout",
     "output_type": "stream",
     "text": [
      "None\n",
      "         \n",
      "Standard Error - Control - A: 0.00018\n",
      "Standard Error - Variation - B: 0.0002\n",
      "         \n",
      "Rate Delta: 0.0046\n",
      "Percentage Var: 15.63%\n",
      "Confidence Level: 100.00%\n"
     ]
    }
   ],
   "source": [
    "run_ab_test(df_build_agg(df_elevations[df_elevations['experiment_group'] != 'S'])\n",
    "                         ,'sum_all_licenses',\n",
    "                         'license_rate',\n",
    "                         print_title = 'All data - Licence Rate')"
   ]
  },
  {
   "cell_type": "markdown",
   "id": "61a4e34a",
   "metadata": {},
   "source": [
    "\n",
    "**Licence Rate**: The fully automated manual elevations used in experiment group B had a very positive effect on the licence rate, resulting in +15.63% more license purchases than group A. This result is statistically significant.\n",
    "\n",
    "--------------------------------------------------\n",
    "\n",
    "## Overall Summary\n",
    "The fully automated manual elevations used in experiment group B had much better unique click-rate (+5.44%) and licence-rate (+15.63%) performance than the combination of manual and automated elevations in group A.\n",
    "The test had almost no effect on the unique export rate.\n",
    "\n",
    "--------------------------------------------------"
   ]
  },
  {
   "cell_type": "markdown",
   "id": "ce6bc556",
   "metadata": {},
   "source": [
    "## 2. Suggestions for further analysis:\n",
    "\n",
    "- **Segment the test by User Type, Media Type and Query** to determine if particular manual elevations should be maintained, or if the automated elevations should be set for all queries. Conduct this analysis for Click Rate, Export Rate and Licence Rate.\n",
    "- Investigate experiment performance over time, and by day of week. This may reveal patterns of behaviour unique to the weekend period or workdays for example.\n",
    "- Segment by user and join in additional user information data - to see if test effectiveness varies by things like user time subscribed, relative level of familiarity with the platform and more.\n",
    "- Does the number of clicks correlate to the number of elevations?\n",
    "\n",
    "---------------------------------"
   ]
  },
  {
   "cell_type": "markdown",
   "id": "18ff68b7",
   "metadata": {},
   "source": [
    "## 3. Unique Click-rate Test Segmentation by User Tiers, Media Type and Query:\n",
    "\n",
    "--------------------\n",
    "\n",
    "**The all_tests function below combines the A/B test results of other functions to create multiple subsets of a given column grouping, allowing for quick segmented analysis. Returns a dataframe.**\n",
    "\n",
    "Takes 4 arguments:\n",
    "\n",
    "  - **my_df** = the top level dataframe to get the subset categories from\n",
    "  - **ss_colname** = the column from which to derive the subsets\n",
    "  - **cv_col** = the column indicating conversions for the chosen metric\n",
    "  - **rate_col** = the column indicating conversion rate for the chosen metric"
   ]
  },
  {
   "cell_type": "code",
   "execution_count": 9,
   "id": "39247bee",
   "metadata": {},
   "outputs": [],
   "source": [
    "def all_tests(my_df, ss_colname, cv_col, rate_col):\n",
    "    combined_dict = { ss_colname : [], 'percentage_delta' : [],\n",
    "                      'percentage_var' : [], 'z-score' : [],\n",
    "                      'confidence' : [], 'a_am_searches' : [], 'a_am_conv' : [],\n",
    "                      'a_am_rate' : [],'a_am_stderr' : [], 'b_ao_searches' : [],\n",
    "                      'b_ao_conv' : [], 'b_ao_rate' : [], 'b_ao_stderr' : []}\n",
    "\n",
    "\n",
    "    for ss_value in my_df[ss_colname].unique():\n",
    "        try:\n",
    "            ab_results = run_ab_test(df_input = df_build_agg(df_subset = subset_build(ss_colname,ss_value)),\n",
    "                                     conversions_col_name = cv_col,\n",
    "                                     rate_col_name = rate_col,\n",
    "                                     return_dict = True)\n",
    "            \n",
    "            for key in ab_results:\n",
    "                combined_dict[key].append(ab_results[key])\n",
    "\n",
    "            combined_dict[ss_colname].append(ss_value)\n",
    "        except IndexError:\n",
    "            continue            \n",
    "    \n",
    "    output_df = pd.DataFrame(combined_dict).set_index(ss_colname)\n",
    "    output_df['total_searches'] = (output_df['a_am_searches'] + output_df['b_ao_searches'])\n",
    "    output_df['total_conversions'] = (output_df['a_am_conv'] + output_df['b_ao_conv'])\n",
    "    return output_df"
   ]
  },
  {
   "cell_type": "markdown",
   "id": "8fcb5199",
   "metadata": {},
   "source": [
    "--------------------------\n",
    "\n",
    "**Creating the User Tiers, Media Types and Queries segmented A/B test dataframes**"
   ]
  },
  {
   "cell_type": "code",
   "execution_count": null,
   "id": "7fb20a65",
   "metadata": {},
   "outputs": [],
   "source": [
    "user_tiers_ab_df  = (all_tests(df_elevations,'user_tier','sum_unique_clicks','unq_click_rate'))\n",
    "media_types_ab_df =(all_tests(df_elevations,'media_types','sum_unique_clicks','unq_click_rate')) \n",
    "queries_ab_df     =(all_tests(df_elevations,'query','sum_unique_clicks','unq_click_rate')) "
   ]
  },
  {
   "cell_type": "markdown",
   "id": "a73ee734",
   "metadata": {},
   "source": [
    "**Function to format tables below**"
   ]
  },
  {
   "cell_type": "code",
   "execution_count": null,
   "id": "b8141a2c",
   "metadata": {},
   "outputs": [],
   "source": [
    "def ab_df_format(df):\n",
    "    selectedcols_df = df.loc[ : , \n",
    "                        ['total_searches' , \n",
    "                        'total_conversions',\n",
    "                        'a_am_rate','b_ao_rate',\n",
    "                        'percentage_var',\n",
    "                        'confidence' ] ].rename(columns={'total_searches': 'Total Searches', \n",
    "                                        'total_conversions': 'Total Unique Clicks',\n",
    "                                        'a_am_rate': 'Group A Click Rate',\n",
    "                                        'b_ao_rate': 'Group B Click Rate',\n",
    "                                        'percentage_var': 'Percentage Var',\n",
    "                                        'confidence': 'Confidence'})\n",
    "\n",
    "    return selectedcols_df"
   ]
  },
  {
   "cell_type": "markdown",
   "id": "87ef8cac",
   "metadata": {},
   "source": [
    "\n",
    "------\n",
    "\n",
    "## User Tiers"
   ]
  },
  {
   "cell_type": "code",
   "execution_count": null,
   "id": "1504d708",
   "metadata": {},
   "outputs": [],
   "source": [
    "display(ab_df_format(user_tiers_ab_df))"
   ]
  },
  {
   "cell_type": "markdown",
   "id": "7b1a3924",
   "metadata": {},
   "source": [
    "Unique click rate improved for both the free and paid tiers when exposed to automated manual elevations.\n",
    "\n",
    "The improvement was +5.03% for free, and +6.38% for paid.\n",
    "\n",
    "Interestly, the paid tier saw a slightly better improvement than the free tier.\n",
    "\n",
    "------\n",
    "\n",
    "## Media Types"
   ]
  },
  {
   "cell_type": "code",
   "execution_count": null,
   "id": "edc80347",
   "metadata": {},
   "outputs": [],
   "source": [
    "display(ab_df_format(media_types_ab_df))"
   ]
  },
  {
   "cell_type": "markdown",
   "id": "d53f5341",
   "metadata": {},
   "source": [
    "The default Raster and Vector 'RV' filter improved the most with automated elevations, with unique click rate increasing by +5.49%. This filter made up the bulk of all searches.\n",
    "\n",
    "However, the Vector Only 'V' filter saw unique click rate decrease by -4.04% when automated elevations were applied.\n",
    "\n",
    "Similarly the Raster Only 'R' filter saw a decline of -1.15%, although this result is not statistically significant. \n",
    "\n",
    "------\n",
    "\n",
    "## Queries\n",
    "\n",
    "**Code formatting and creating output tables for different views of the queries A/B tests.**"
   ]
  },
  {
   "cell_type": "code",
   "execution_count": null,
   "id": "e57d5488",
   "metadata": {
    "scrolled": true
   },
   "outputs": [],
   "source": [
    "format_df = ab_df_format(queries_ab_df)\n",
    "\n",
    "filter1 = format_df['Confidence'] >= 0.95\n",
    "filter2 = format_df['Total Searches'] >= 1000\n",
    "filter3 = format_df['Percentage Var'] < 0\n",
    "filter4 = format_df['Percentage Var'] > 0\n",
    "\n",
    "subset_df_best = format_df[filter1 & filter2 & filter4]\n",
    "subset_df_worst = format_df[filter1 & filter2 & filter3]\n",
    "\n",
    "sorted_df_best = subset_df_best.sort_values('Percentage Var',ascending=False)\n",
    "sorted_df_worst = subset_df_worst.sort_values('Percentage Var',ascending=True)\n",
    "\n",
    "pd.set_option('display.max_rows', 500)"
   ]
  },
  {
   "cell_type": "markdown",
   "id": "3f862c6f",
   "metadata": {},
   "source": [
    "**The top most improved queries with >95% confidence and > 1000 searches**\n",
    "\n",
    "These queries would perform better with fully automated manual elevations. Edge cases with <5% improvement should be reviewed."
   ]
  },
  {
   "cell_type": "code",
   "execution_count": null,
   "id": "ca641d92",
   "metadata": {},
   "outputs": [],
   "source": [
    "display(sorted_df_best)"
   ]
  },
  {
   "cell_type": "markdown",
   "id": "a3acd3ee",
   "metadata": {},
   "source": [
    "**The bottom most declined queries with >95% confidence, and >1000 searches**\n",
    "\n",
    "The automated manual elevations for these queries should be reviewed. Consider whether displaying manual elevations instead would be better for these queries."
   ]
  },
  {
   "cell_type": "code",
   "execution_count": null,
   "id": "747980fe",
   "metadata": {},
   "outputs": [],
   "source": [
    "display(sorted_df_worst)"
   ]
  },
  {
   "cell_type": "markdown",
   "id": "4cb10833",
   "metadata": {},
   "source": [
    "## 4. Final Recommendations:\n",
    "\n",
    "--------------------\n",
    "\n",
    "With a Unique Click Rate lift of + 5.44% and a Licence Rate lift of +15.63%, Automated elevations could be enabled for all searches to see an immediate performance improvement on the platform.\n",
    "\n",
    "However, there are areas for review and potential improvement:\n",
    "- The Vector Only filter saw a unique click rate decrease of -4.04% with automated elevations. This should be further investigated on a query by query basis, and search results for this filter should be reviewed. Ultimately, manual elevations may represent a better choice for for this filter type.\n",
    "- Several queries were identified that performed worse with automated elevations. The search results for these should be reviewed in detail to see if the results can be improved. Manual elevations may be a better option for these queries.\n",
    "- Top performing queries were identified. These could be reviewed for best practice learnings.\n",
    "\n",
    "--------\n",
    "**By Kyle Ross - 13/01/2021**"
   ]
  }
 ],
 "metadata": {
  "kernelspec": {
   "display_name": "Python 3 (ipykernel)",
   "language": "python",
   "name": "python3"
  },
  "language_info": {
   "codemirror_mode": {
    "name": "ipython",
    "version": 3
   },
   "file_extension": ".py",
   "mimetype": "text/x-python",
   "name": "python",
   "nbconvert_exporter": "python",
   "pygments_lexer": "ipython3",
   "version": "3.9.6"
  }
 },
 "nbformat": 4,
 "nbformat_minor": 5
}
